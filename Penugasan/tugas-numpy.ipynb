{
  "cells": [
    {
      "cell_type": "markdown",
      "id": "d947b9cf-215c-4b18-a0b8-963556c547c7",
      "metadata": {
        "id": "d947b9cf-215c-4b18-a0b8-963556c547c7"
      },
      "source": [
        "# **TUGAS NUMPY**\n",
        "\n",
        "---\n",
        "\n",
        "Nama: Dzaki Althalsyah\n",
        "\n",
        "NIM: 245150407111071"
      ]
    },
    {
      "cell_type": "markdown",
      "id": "392630c3-e396-4dde-8258-cfd1085fd39d",
      "metadata": {
        "id": "392630c3-e396-4dde-8258-cfd1085fd39d"
      },
      "source": [
        "Setelah mengikuti workshop Numpy dan Pandas, tentunya kalian sudah mulai memahami hal-hal apa saja yang akan dilakukan oleh Data Scientist dengan Numpy. Sekarang, saatnya mengukur kemampuan kalian dari apa yang telah kalian dapatkan pada workshop sebelumnya.\n",
        "\n",
        "**Deadline: Jumat, 21 Februari 2025**\n"
      ]
    },
    {
      "cell_type": "markdown",
      "id": "eca339fb-851e-47d9-92a3-8811c04207ed",
      "metadata": {
        "id": "eca339fb-851e-47d9-92a3-8811c04207ed"
      },
      "source": [
        "# **📊 Numpy Exercise 📊**\n",
        "\n",
        "Selamat datang di latihan eksplorasi data menggunakan **Numpy**!  \n",
        "\n",
        "---"
      ]
    },
    {
      "cell_type": "markdown",
      "id": "ee73dcd6-dd10-4c9c-88ca-0eab4af9f337",
      "metadata": {
        "id": "ee73dcd6-dd10-4c9c-88ca-0eab4af9f337"
      },
      "source": [
        "## **📌 Soal 1: Regresi Linear** 📝\n",
        "\n",
        "Saat offline/online assessment kemarin ada persoalaan **Regresi Linear**, nah coba kamu buat menggunakan python dan numpy termasuk poin-poin berikut: <br>\n",
        "✅ Fungsi regresi mampu menerima array A dan array B dan memprediksi slope dan intercept<br>\n",
        "✅ Fungsi regresi mampu memprediksi nilai baru jika diberikan nilai X <br>"
      ]
    },
    {
      "cell_type": "code",
      "source": [
        "import numpy as np"
      ],
      "metadata": {
        "id": "Lc0SCJffYekE"
      },
      "id": "Lc0SCJffYekE",
      "execution_count": 17,
      "outputs": []
    },
    {
      "cell_type": "code",
      "execution_count": 53,
      "id": "cbc3cb08-4559-41f8-ad23-1889bd6b5e7d",
      "metadata": {
        "colab": {
          "base_uri": "https://localhost:8080/"
        },
        "id": "cbc3cb08-4559-41f8-ad23-1889bd6b5e7d",
        "outputId": "48890929-e7cc-4bce-f901-3814f371189a"
      },
      "outputs": [
        {
          "output_type": "stream",
          "name": "stdout",
          "text": [
            "Masukkan nilai X: 6\n",
            "Slope: -0.19425511197663092\n",
            "Intercept: 19.946932814021423\n",
            "Prediksi untuk X = 6 : 18.78140214216164\n"
          ]
        }
      ],
      "source": [
        "A = np.array([10, 21, 31, 14, 5])\n",
        "B = np.array([2, 27, 13, 9, 33])\n",
        "\n",
        "mean_x = np.mean(A)\n",
        "mean_y = np.mean(B)\n",
        "\n",
        "numerator = np.sum((A - mean_x) * (B - mean_y))\n",
        "denominator = np.sum((A - mean_x) ** 2)\n",
        "\n",
        "slope = numerator / denominator\n",
        "intercept = mean_y - (slope * mean_x)\n",
        "\n",
        "nilai_baru = int(input(\"Masukkan nilai X: \"))\n",
        "nilai_prediksi = (slope * nilai_baru) + intercept\n",
        "\n",
        "print(\"Slope:\", slope)\n",
        "print(\"Intercept:\", intercept)\n",
        "print(\"Prediksi untuk X =\", nilai_baru ,\":\", nilai_prediksi)"
      ]
    },
    {
      "cell_type": "markdown",
      "id": "a01ab4fc-cd05-4c79-bc0e-35f2412477d2",
      "metadata": {
        "id": "a01ab4fc-cd05-4c79-bc0e-35f2412477d2"
      },
      "source": [
        "## **📌 Soal 2: Regresi Polinomial** 📝\n",
        "\n",
        "Saat offline/online assessment kemarin ada persoalan **Regresi Linear**, nah sekarang coba kamu buat **Regresi Polinomial** menggunakan Python dan NumPy, termasuk poin-poin berikut:<br>\n",
        "✅ Fungsi regresi mampu menerima array A dan array B serta menyesuaikan data dengan polinomial derajat tertentu.<br>\n",
        "✅ Fungsi regresi mampu memprediksi nilai baru jika diberikan nilai X.<br>\n",
        "✅ Hasil regresi mencetak koefisien polinomial yang dihasilkan.<br>"
      ]
    },
    {
      "cell_type": "code",
      "execution_count": 57,
      "id": "efaa13de-f42c-43e8-b726-3d4d849807ad",
      "metadata": {
        "colab": {
          "base_uri": "https://localhost:8080/"
        },
        "id": "efaa13de-f42c-43e8-b726-3d4d849807ad",
        "outputId": "e5abc2f9-477f-441e-b1a0-e31f2d6a330b"
      },
      "outputs": [
        {
          "output_type": "stream",
          "name": "stdout",
          "text": [
            "Koefisien Polinomial:\n",
            "x^0: 31.413523050412863\n",
            "x^1: -1.888532143431988\n",
            "x^2: 0.04637463050837276\n",
            "Prediksi untuk X = 6 : 21.751816888122356\n"
          ]
        }
      ],
      "source": [
        "A = np.array([10, 21, 31, 14, 5])\n",
        "B = np.array([2, 27, 13, 9, 33])\n",
        "\n",
        "derajat = 2\n",
        "\n",
        "X = np.array([A**i for i in range(derajat + 1)]).T\n",
        "\n",
        "koefisien = np.linalg.lstsq(X, B, rcond=None)[0]\n",
        "\n",
        "for i, coef in enumerate(koefisien):\n",
        "    print(f\"x^{i}: {coef}\")\n",
        "\n",
        "nilai_baru = 6\n",
        "nilai_prediksi = sum(coef * (nilai_baru**i) for i, coef in enumerate(koefisien))\n",
        "\n",
        "print(\"Prediksi untuk X =\", nilai_baru, \":\", nilai_prediksi)\n"
      ]
    },
    {
      "cell_type": "markdown",
      "id": "e187c964-3ab2-4ae3-a52c-4e6052c30911",
      "metadata": {
        "id": "e187c964-3ab2-4ae3-a52c-4e6052c30911"
      },
      "source": [
        "## **📌 Soal 3: Random Values Array** 📝\n",
        "\n",
        "Pertama-tama, buatlah **Array Integer 10x10x10** dengan elemen **random** dan carikan:<br>\n",
        "1️⃣ Cari elemen minimum dan maksimum dalam array tersebut?<br>\n",
        "2️⃣ Carilah rata-rata dan median seluruh elemen dalam array tersebut?<br>"
      ]
    },
    {
      "cell_type": "code",
      "execution_count": 19,
      "id": "ba1aa95d-56ce-4834-8d73-7e27e4cc1901",
      "metadata": {
        "collapsed": true,
        "colab": {
          "base_uri": "https://localhost:8080/"
        },
        "id": "ba1aa95d-56ce-4834-8d73-7e27e4cc1901",
        "outputId": "033b4554-01e9-4a4b-dd55-c2a740c045b5"
      },
      "outputs": [
        {
          "output_type": "execute_result",
          "data": {
            "text/plain": [
              "array([[[4267065, 7635072, 9808612,  975786, 9590139, 4440169, 2736315,\n",
              "         2104305, 8927754, 9630680],\n",
              "        [8239030, 7782189, 5546439, 9628292, 3546899, 4265437, 7531677,\n",
              "         6998046, 4062963, 3974241],\n",
              "        [1173832, 3084029, 7741063, 6856762, 6342531, 5052778, 2139337,\n",
              "         6307311, 8779756, 8394058],\n",
              "        [8492126, 5112629, 2442310, 1979432, 7796519, 1881353, 7348979,\n",
              "         4340031, 7867959, 5354059],\n",
              "        [3718466, 7615186,  604005, 1905033, 4689709, 7540446, 6111705,\n",
              "         1394017,  135363, 3868254],\n",
              "        [4306434, 3521677, 1727526, 2812468, 9544607, 3066217, 4307128,\n",
              "         7774302, 7288757, 2128115],\n",
              "        [2910836, 4495034, 9807090, 6473347, 1070074, 6386068, 6080067,\n",
              "         3358860, 5927288, 9278802],\n",
              "        [  21142, 1251766, 2206049, 2657570, 5725638, 7715038, 6056384,\n",
              "         7808040,  251419, 5127622],\n",
              "        [8530475, 6248398, 2932204, 3019889, 1780203,  262609, 8577543,\n",
              "         3528305, 1196292, 4186004],\n",
              "        [1600564, 9595605, 9798399, 6892061, 1177402, 3716662, 1437176,\n",
              "         5882321, 5321807, 9890615]],\n",
              "\n",
              "       [[7827382, 9362901, 8726148, 8367959, 2537453,  422295, 1181065,\n",
              "         4953461, 5433782, 9134465],\n",
              "        [6068617, 3421082, 9145660, 4326141, 6347689, 4711287, 5708788,\n",
              "         3958929, 8398655, 3834546],\n",
              "        [5290691, 9244017, 7962880, 4807491, 5218564, 5016255,  791283,\n",
              "         2815048, 1533128,   47475],\n",
              "        [1924220, 9369919, 3351239, 7931294,  312857,  855118, 4917059,\n",
              "         1938394, 5732682, 9467900],\n",
              "        [4403443, 2675550,  442035, 8613359, 8274534, 1396527, 6652024,\n",
              "         1728596, 7258588, 1629066],\n",
              "        [2985677, 4845900, 9221570,  449899, 5872479, 7577886, 3774448,\n",
              "         9761956, 2442628, 3331665],\n",
              "        [3012305, 7081015, 9338902, 4228546, 3819849, 3890651, 8400164,\n",
              "         6180099, 2279981,  825746],\n",
              "        [6645923, 6239040,  522223, 2769286, 4056837, 4053747, 2148497,\n",
              "         8031159, 5231704, 1647220],\n",
              "        [1299106, 2496528, 9690532, 3945513, 7381704, 8965979, 2472513,\n",
              "         4546938, 8646490, 9231860],\n",
              "        [4293884, 8994395, 4525070, 9597359, 4093071, 9195264, 9457220,\n",
              "         2675869, 9812596, 6431044]],\n",
              "\n",
              "       [[3868815, 4384377, 4148990, 7010891, 7812720, 1439676, 6807429,\n",
              "         5641470, 8649200, 3427672],\n",
              "        [7346460, 1172440, 8194181, 2298299, 9919045, 8309703, 3953068,\n",
              "         4564551, 6803020, 2194376],\n",
              "        [4613442,  294701, 8466120,  456818, 7092441, 3362820, 8685280,\n",
              "         6598049, 7606089, 6987848],\n",
              "        [8514332, 6161850, 9470361, 2699346, 4324848, 2108250, 3002332,\n",
              "         4220593, 2226749, 2296608],\n",
              "        [4074726, 8086562, 6750568, 3957874, 7098272, 7726138, 2897889,\n",
              "          339559, 3088912,  714065],\n",
              "        [5393110,  569104, 4842374, 9789131, 2676199, 5125695, 4033860,\n",
              "         1549728, 2243475, 8323542],\n",
              "        [8625414, 1387696, 5239836,  123210, 7481301, 2378673, 8231923,\n",
              "         9300491, 9486792, 5208960],\n",
              "        [6501863, 6542155, 7760334, 9957745, 4775952, 3026429, 4575151,\n",
              "         5217351, 2429772, 3336864],\n",
              "        [7920332, 4070202,  509748, 7472608, 9885827, 9268869,  224415,\n",
              "         1311923, 2419313, 8630558],\n",
              "        [5946032,  827048, 1851157, 6659234, 3774910, 9977081, 2266665,\n",
              "         1481323, 6902465, 3857802]],\n",
              "\n",
              "       [[5154652, 4072524, 1111622, 5966275, 5989038, 4057782, 4969976,\n",
              "         7969275, 5363161, 2685217],\n",
              "        [1681275,  263888, 5467464, 3131614, 5489167,  166752,  493129,\n",
              "         3989883, 5726389, 6427914],\n",
              "        [3673319, 2112854, 3041734, 8159446, 9523856, 3066441, 1621443,\n",
              "         1205533, 3383201, 3142200],\n",
              "        [1282734, 6388728, 9821326,  680397, 3124450, 1921023, 4909593,\n",
              "         9407240,  815846, 5806107],\n",
              "        [ 937618, 6197511, 1984719, 3934930, 1902358, 9181985, 9525417,\n",
              "         8516529, 1723957, 8120061],\n",
              "        [2620728, 4006356, 5026705, 1199033, 5826455, 6243099, 3357860,\n",
              "         8124170, 6932305, 3249759],\n",
              "        [4622917,  179381, 9090934, 4946854,   47029,  423947, 7909532,\n",
              "         6751919,  969159, 6823380],\n",
              "        [9266731, 2713381, 6257113, 3279896,  200376, 2964244, 4396414,\n",
              "         2123500, 1032215, 1676588],\n",
              "        [7904419, 2192445, 2004095, 6718982, 3634423, 7418490, 2643123,\n",
              "         1077025, 2803341, 8377737],\n",
              "        [8677727, 3279190, 7189646, 8844754, 7258992, 8571250, 4799798,\n",
              "         3258003, 5811440,  919279]],\n",
              "\n",
              "       [[8203213, 5302816, 9036386, 5626249,  658080, 1386328, 9755929,\n",
              "         8469100, 9170693, 4351667],\n",
              "        [  76283, 4018602, 7041142,  498037, 1877010, 1774370, 4854949,\n",
              "         8950226, 6216030, 9206557],\n",
              "        [3422824, 7194726, 7729584, 1525240, 5875254, 1917790, 9209635,\n",
              "         5461676, 7997381, 2643884],\n",
              "        [4330805, 9555638, 6989232, 9011835, 4197867, 1113827, 2532164,\n",
              "         8327434, 9692160, 5641214],\n",
              "        [3283258,  830339, 5774941, 4256661, 8242694, 5149983, 1761288,\n",
              "         7232936, 5536591, 5538167],\n",
              "        [ 746533, 5447219, 4238358, 1964366, 2221000, 2856663, 3315423,\n",
              "         6916723,  650461, 2482293],\n",
              "        [8446876, 9422945, 5721186, 6886297, 3447149, 2081896, 2323697,\n",
              "          545957,  614351,   14635],\n",
              "        [5257025, 3300503, 5862327,  454705, 8888551, 2855636, 8530791,\n",
              "         2176327, 4728138, 7970052],\n",
              "        [9704000,  970810, 7847150, 3552781, 4553372, 9389302, 8191708,\n",
              "         5826783, 5672910, 5699193],\n",
              "        [1673135,  879230, 6675929, 7621891, 8031376, 7609222, 8010444,\n",
              "         6521114, 5968410, 2868959]],\n",
              "\n",
              "       [[1652729, 8429751, 6980889, 2583889, 9565528, 6420007, 2969000,\n",
              "         4036620, 5937743, 7451911],\n",
              "        [ 925985, 2128589, 1456199, 7098053, 5670522, 8221858, 6583947,\n",
              "         9519302,   29382, 8190646],\n",
              "        [2492616, 5228538, 6349094, 6074181, 3825553, 6639846, 4745961,\n",
              "         3836055, 6541949, 2542113],\n",
              "        [9042567, 5197114, 4659188, 3909986, 7143375, 1693236, 2231379,\n",
              "         2654103, 8297988, 5618990],\n",
              "        [4194661, 3321650, 7044089, 6797185, 2335230,  779400, 6801719,\n",
              "         1431494, 8999197, 5449148],\n",
              "        [7785869, 8297980,  259720,  723432, 2970850, 7198097, 9137466,\n",
              "         1914734, 1762975,  323239],\n",
              "        [9406371, 6960971, 9761756,  535629, 9243345, 2663597, 4191824,\n",
              "         2941767, 4563537, 6396656],\n",
              "        [3607354, 1665698, 8913239, 6534822, 1580135, 4325158, 5858725,\n",
              "         7528761,  750182, 6931859],\n",
              "        [6714370, 5888123,  995174, 4023943, 7705220, 2914113, 4570107,\n",
              "         4171157, 9607963, 1215034],\n",
              "        [9326944, 4801881, 3974389, 7964061, 6911711,  237192, 3419411,\n",
              "         5008899, 2655132, 4089833]],\n",
              "\n",
              "       [[6147631, 8660486, 7930237,  252690, 4104701, 2345008, 2445813,\n",
              "          872619, 6379924, 6754877],\n",
              "        [6165374, 6531122, 5854758, 7139771, 9607507, 1996309, 9753551,\n",
              "         4916471, 1755551, 3469466],\n",
              "        [2483621, 7658837, 7483743, 6108230, 8220254, 9473885, 1031933,\n",
              "         8785170, 2413838, 2241865],\n",
              "        [3707406, 3841084, 2423289,  219102, 5979290, 4930490, 8371839,\n",
              "         8520015, 3097954, 4907122],\n",
              "        [3108460, 7644437, 3399314, 8386794, 8158902, 3956836,  259222,\n",
              "         5350200,  206731, 5392582],\n",
              "        [8100621, 2328523, 5946846, 5521575, 1958513,  310517, 3776259,\n",
              "         5095157, 4047190, 8139780],\n",
              "        [2325482, 1074413, 5084933, 9515227, 7561437, 2023010, 7140723,\n",
              "         7519600, 6281277, 1035591],\n",
              "        [3501638, 6411819, 4472546, 1661252, 9261995, 9891373, 5161184,\n",
              "         4086248,  473267, 7790008],\n",
              "        [ 504085, 7134567,  621463, 7083126, 3275020, 7767286, 7251753,\n",
              "         6849008, 6651387, 7565906],\n",
              "        [3725669, 5772153, 7984643,   84033, 2906012, 3341828, 5552183,\n",
              "         3897398, 3270529, 4344266]],\n",
              "\n",
              "       [[5090957, 4110332, 7064015, 2209434, 4081740, 5217027,  780040,\n",
              "         8349978, 7121060, 1092677],\n",
              "        [5686815, 3906129, 2080565, 3574010, 4965758, 9913713, 7834776,\n",
              "         9790909, 4699489, 2031156],\n",
              "        [6151173,  806834, 9228244,  805650, 6481035, 9695751,  928483,\n",
              "          170573, 7088006, 9461762],\n",
              "        [6543639, 2504875, 7097321, 6508225, 1918404, 3429597, 2691387,\n",
              "         9202385, 1177232,   54276],\n",
              "        [5313077, 6189128, 9790676, 4722975, 5051480, 4539930, 3674413,\n",
              "         3511873, 7313555, 9679113],\n",
              "        [4600334,  426414, 9155199, 6447782, 2266058, 4833958, 1229212,\n",
              "         6229509, 4466517, 1607129],\n",
              "        [4516792,  214879, 6361531,  984322, 8405839, 7473774, 4147029,\n",
              "         3026306, 2678247, 4275169],\n",
              "        [7319328,  433235, 5330689, 4092143,  678792, 9757297, 6851932,\n",
              "         7373814, 9518662, 6974020],\n",
              "        [ 539478, 3260687, 6527028, 9102998, 9956410, 6267080, 8339731,\n",
              "         2733548, 2935685, 5573937],\n",
              "        [5840445, 9942109, 1121056, 2420774, 8151690, 9681968, 2552272,\n",
              "         8538969, 8323454, 2335508]],\n",
              "\n",
              "       [[8419300, 6341418, 3231348, 1225926, 8063882, 7858111,  105162,\n",
              "         3245280, 3769345, 8651185],\n",
              "        [6426558, 1103582,  555724, 2730634, 8053146,  487145, 1026913,\n",
              "         9960400,  589928, 9020763],\n",
              "        [9255553, 2417331, 8111430, 9592440, 7068527, 8066897, 9811080,\n",
              "         4092569, 5048315, 9879651],\n",
              "        [8228418, 8735484, 5096957, 4547449, 7332591,   75898, 9522565,\n",
              "          384246, 1411076, 9758274],\n",
              "        [8525196, 9122993, 4749690, 8364000, 3782868, 4801684,  307437,\n",
              "         2344473, 2657207, 1804772],\n",
              "        [1666572, 2461013, 3263749, 8227464, 4289907, 5978087, 9663397,\n",
              "          510948, 7992378, 4051189],\n",
              "        [6649240, 2782736, 4082197, 3560957, 3223614, 8577599, 2663979,\n",
              "         1611166, 3044877, 1875541],\n",
              "        [4110620,  245615, 6331653, 9937212, 6944101, 6990674, 9623935,\n",
              "         9863242, 6135735, 6676004],\n",
              "        [7196000, 8702019, 5026983, 8589095, 6807414, 5467757,  574315,\n",
              "         3107410, 4628842, 1982957],\n",
              "        [3746388, 9825728, 1150383,  219331, 3466894, 2767071, 8595733,\n",
              "         5752820, 3625083, 9181170]],\n",
              "\n",
              "       [[9941701, 3706066, 8135352, 5132941, 1898442, 3877515, 2417621,\n",
              "         1223409, 6958570, 2714172],\n",
              "        [8328501, 5334369, 2832474, 8002095, 9059694, 3251173, 2149099,\n",
              "          451042, 7864923, 3251025],\n",
              "        [1855757, 9909781, 8586171, 6397726, 6778154, 5600624, 5123628,\n",
              "         2332319, 4130536, 1123373],\n",
              "        [5673248, 7846311, 8841211, 2525653, 4526665, 9887780, 5039892,\n",
              "         2372548, 8570131, 7104183],\n",
              "        [5363014, 2759637, 5700448, 7842800, 2988818,  866128, 3584369,\n",
              "         1550037, 5858304, 3246063],\n",
              "        [ 954910, 8212195, 7704628, 3722780, 3836219, 9354504, 1192181,\n",
              "         9233370, 9045296, 6999497],\n",
              "        [8830318, 7544964, 9886205, 1867780, 8873448, 2170676, 7040419,\n",
              "         6650063, 8489253, 3364277],\n",
              "        [9947635, 4536642, 1906439, 6791545, 1817168, 7247984, 8763390,\n",
              "         3151225, 2811992, 5362534],\n",
              "        [5170052, 5581282, 1764149, 8672775, 6686806, 5686494, 3834726,\n",
              "         2085393, 1486156, 3137650],\n",
              "        [8729018, 3887221, 1150641, 3149689, 7838511, 9485572, 1003587,\n",
              "         1233310, 1123938,  966537]]])"
            ]
          },
          "metadata": {},
          "execution_count": 19
        }
      ],
      "source": [
        "import numpy as np\n",
        "\n",
        "arr_rand = np.random.randint(0, 10000000, size=(10, 10, 10))\n",
        "arr_rand"
      ]
    },
    {
      "cell_type": "code",
      "execution_count": 20,
      "id": "c7cd0420-9393-449a-bcec-e5947b24b327",
      "metadata": {
        "collapsed": true,
        "colab": {
          "base_uri": "https://localhost:8080/"
        },
        "id": "c7cd0420-9393-449a-bcec-e5947b24b327",
        "outputId": "c521b0b0-ccfd-4f57-9395-d6e5b7c624c2"
      },
      "outputs": [
        {
          "output_type": "stream",
          "name": "stdout",
          "text": [
            "Nilai minimum: 14635\n",
            "Nilai maksimum: 9977081\n",
            "Nilai rata-rata: 4992042.914\n",
            "Nilai median: 4908357.5\n"
          ]
        }
      ],
      "source": [
        "min = np.amin(arr_rand)\n",
        "max = np.amax(arr_rand)\n",
        "mean = np.mean(arr_rand)\n",
        "median = np.median(arr_rand)\n",
        "\n",
        "print(f\"Nilai minimum: {min}\")\n",
        "print(f\"Nilai maksimum: {max}\")\n",
        "print(f\"Nilai rata-rata: {mean}\")\n",
        "print(f\"Nilai median: {median}\")"
      ]
    },
    {
      "cell_type": "markdown",
      "id": "1f248c96-688d-462a-b41e-5a2275be5fde",
      "metadata": {
        "id": "1f248c96-688d-462a-b41e-5a2275be5fde"
      },
      "source": [
        "## **📌 Soal 4: 2D Array Shenanigans** 📝\n",
        "\n",
        "Tugas kamu disini adalah membuat **Array 2D** sesuai ketentuan masing-masing soal: <br>\n",
        "1️⃣ Buatlah **array 10x10** yang memiliki angka \"5\" sebagai bingkai di seluruh tepi luar dan bagian dalam (selain array) berisi \"8\"? <br>\n",
        "2️⃣ Buatlah **array 2d 8x8** dengan pola seperti **checkboard/catur** (1 untuk kotak hitam, 0 untuk kotak putih)?<br>\n",
        "3️⃣ Buatlah **array 2d 15x15** dengan aturan sebagai berikut:\n",
        "- Jika suatu angka dapat dibagi 2, isi dengan 2.\n",
        "- Jika suatu angka dapat dibagi 3, isi dengan 3.\n",
        "- Jika suatu angka dapat dibagi 5, isi dengan 5.\n",
        "- Jika suatu angka dapat dibagi oleh lebih dari satu kondisi (misal, 6 bisa dibagi 2 & 3), maka simpan gabungan angka tersebut (misal, 6 → \"23\", 15 → \"35\").\n",
        "- Jika tidak memenuhi kondisi apa pun, isi dengan 0."
      ]
    },
    {
      "cell_type": "code",
      "execution_count": 21,
      "id": "e4974640-df15-43f7-9ae5-fdc8ff8f47dd",
      "metadata": {
        "collapsed": true,
        "colab": {
          "base_uri": "https://localhost:8080/"
        },
        "id": "e4974640-df15-43f7-9ae5-fdc8ff8f47dd",
        "outputId": "ded1fd38-e929-4f66-c7c3-46c5dbe7b763"
      },
      "outputs": [
        {
          "output_type": "execute_result",
          "data": {
            "text/plain": [
              "array([[5, 5, 5, 5, 5, 5, 5, 5, 5, 5],\n",
              "       [5, 8, 8, 8, 8, 8, 8, 8, 8, 5],\n",
              "       [5, 8, 8, 8, 8, 8, 8, 8, 8, 5],\n",
              "       [5, 8, 8, 8, 8, 8, 8, 8, 8, 5],\n",
              "       [5, 8, 8, 8, 8, 8, 8, 8, 8, 5],\n",
              "       [5, 8, 8, 8, 8, 8, 8, 8, 8, 5],\n",
              "       [5, 8, 8, 8, 8, 8, 8, 8, 8, 5],\n",
              "       [5, 8, 8, 8, 8, 8, 8, 8, 8, 5],\n",
              "       [5, 8, 8, 8, 8, 8, 8, 8, 8, 5],\n",
              "       [5, 5, 5, 5, 5, 5, 5, 5, 5, 5]])"
            ]
          },
          "metadata": {},
          "execution_count": 21
        }
      ],
      "source": [
        "bingkai = np.full((10, 10), 8)\n",
        "\n",
        "bingkai[0, :] = 5\n",
        "bingkai[-1, :] = 5\n",
        "bingkai[:, 0] = 5\n",
        "bingkai[:, -1] = 5\n",
        "\n",
        "bingkai"
      ]
    },
    {
      "cell_type": "code",
      "execution_count": 22,
      "id": "0af5bcce-4fe7-489e-a23e-24e7ca11108f",
      "metadata": {
        "collapsed": true,
        "colab": {
          "base_uri": "https://localhost:8080/"
        },
        "id": "0af5bcce-4fe7-489e-a23e-24e7ca11108f",
        "outputId": "77744e98-d1c5-46da-c7a0-eea89ad6eab3"
      },
      "outputs": [
        {
          "output_type": "stream",
          "name": "stdout",
          "text": [
            "[[0 1 0 1 0 1 0 1]\n",
            " [1 0 1 0 1 0 1 0]\n",
            " [0 1 0 1 0 1 0 1]\n",
            " [1 0 1 0 1 0 1 0]\n",
            " [0 1 0 1 0 1 0 1]\n",
            " [1 0 1 0 1 0 1 0]\n",
            " [0 1 0 1 0 1 0 1]\n",
            " [1 0 1 0 1 0 1 0]]\n"
          ]
        }
      ],
      "source": [
        "catur = np.zeros((8, 8), dtype=int)\n",
        "catur[1::2, ::2] = 1\n",
        "catur[::2, 1::2] = 1\n",
        "print(catur)"
      ]
    },
    {
      "cell_type": "code",
      "execution_count": 40,
      "id": "5e591f0a-78d8-47e4-97d5-d56bff180984",
      "metadata": {
        "collapsed": true,
        "colab": {
          "base_uri": "https://localhost:8080/"
        },
        "id": "5e591f0a-78d8-47e4-97d5-d56bff180984",
        "outputId": "aab5b75a-a60e-47b4-cb09-efc9c4f236f5"
      },
      "outputs": [
        {
          "output_type": "stream",
          "name": "stdout",
          "text": [
            "[['0' '2' '3' '2' '5' '23' '0' '2' '3' '25' '0' '23' '0' '2' '35']\n",
            " ['2' '0' '23' '0' '25' '3' '2' '0' '23' '5' '2' '3' '2' '0' '235']\n",
            " ['0' '2' '3' '2' '5' '23' '0' '2' '3' '25' '0' '23' '0' '2' '35']\n",
            " ['2' '0' '23' '0' '25' '3' '2' '0' '23' '5' '2' '3' '2' '0' '235']\n",
            " ['0' '2' '3' '2' '5' '23' '0' '2' '3' '25' '0' '23' '0' '2' '35']\n",
            " ['2' '0' '23' '0' '25' '3' '2' '0' '23' '5' '2' '3' '2' '0' '235']\n",
            " ['0' '2' '3' '2' '5' '23' '0' '2' '3' '25' '0' '23' '0' '2' '35']\n",
            " ['2' '0' '23' '0' '25' '3' '2' '0' '23' '5' '2' '3' '2' '0' '235']\n",
            " ['0' '2' '3' '2' '5' '23' '0' '2' '3' '25' '0' '23' '0' '2' '35']\n",
            " ['2' '0' '23' '0' '25' '3' '2' '0' '23' '5' '2' '3' '2' '0' '235']\n",
            " ['0' '2' '3' '2' '5' '23' '0' '2' '3' '25' '0' '23' '0' '2' '35']\n",
            " ['2' '0' '23' '0' '25' '3' '2' '0' '23' '5' '2' '3' '2' '0' '235']\n",
            " ['0' '2' '3' '2' '5' '23' '0' '2' '3' '25' '0' '23' '0' '2' '35']\n",
            " ['2' '0' '23' '0' '25' '3' '2' '0' '23' '5' '2' '3' '2' '0' '235']\n",
            " ['0' '2' '3' '2' '5' '23' '0' '2' '3' '25' '0' '23' '0' '2' '35']]\n"
          ]
        }
      ],
      "source": [
        "arr_2d = np.zeros((15, 15), dtype=object)\n",
        "\n",
        "for i in range(15):\n",
        "    for j in range(15):\n",
        "        num = i * 15 + j + 1\n",
        "        hasil = \"\"\n",
        "        if num % 2 == 0:\n",
        "            hasil += \"2\"\n",
        "        if num % 3 == 0:\n",
        "            hasil += \"3\"\n",
        "        if num % 5 == 0:\n",
        "            hasil += \"5\"\n",
        "        if not hasil:\n",
        "            hasil = \"0\"\n",
        "        arr_2d[i, j] = hasil\n",
        "\n",
        "print(arr_2d)\n"
      ]
    },
    {
      "cell_type": "markdown",
      "id": "4b963ba6-4272-4773-ab58-33ade2e536bd",
      "metadata": {
        "id": "4b963ba6-4272-4773-ab58-33ade2e536bd"
      },
      "source": [
        "## **📌 Soal 5: Time & Date** 📝\n",
        "\n",
        "Kamu disini diminta untuk memanfaatkan fitur numpy untuk tanggal: <br>\n",
        "1️⃣ Bagaimana dengan numpy, kamu bisa mendapatkan tanggal hari ini, kemarin dan esok hari?<br>\n",
        "2️⃣ Tampilkan hari yang ada di bulan Mei tahun 2020?<br>"
      ]
    },
    {
      "cell_type": "code",
      "execution_count": 24,
      "id": "ac7ccf05-97da-484f-96c9-fc578e62bbbe",
      "metadata": {
        "colab": {
          "base_uri": "https://localhost:8080/"
        },
        "id": "ac7ccf05-97da-484f-96c9-fc578e62bbbe",
        "outputId": "cc1ce438-3ee1-4a94-ac2f-3658d3c6c6d2"
      },
      "outputs": [
        {
          "output_type": "stream",
          "name": "stdout",
          "text": [
            "2025-02-20\n",
            "2025-02-19\n",
            "2025-02-21\n"
          ]
        }
      ],
      "source": [
        "now = np.datetime64('today')\n",
        "yesterday = np.datetime64('today') - np.timedelta64(1, 'D')\n",
        "tomorrow = np.datetime64('today') + np.timedelta64(1, 'D')\n",
        "\n",
        "print(now)\n",
        "print(yesterday)\n",
        "print(tomorrow)"
      ]
    },
    {
      "cell_type": "markdown",
      "id": "63d149d6-61a5-481c-bc7c-9e1e8b389c28",
      "metadata": {
        "id": "63d149d6-61a5-481c-bc7c-9e1e8b389c28"
      },
      "source": []
    },
    {
      "cell_type": "markdown",
      "id": "eccc9d2f-8a7a-424c-ab89-ad5e52ca20a4",
      "metadata": {
        "id": "eccc9d2f-8a7a-424c-ab89-ad5e52ca20a4"
      },
      "source": [
        "## **📌 Soal 6: Slicing** 📝\n",
        "\n",
        "Jika diketahui array `A`, maka buatlah program untuk mendapatkan elemen dibawah ini:\n",
        "```python\n",
        "A = np.array([\n",
        "    [10, 20, 30, 40, 50, 60],\n",
        "    [70, 80, 90, 100, 110, 120],\n",
        "    [130, 140, 150, 160, 170, 180],\n",
        "    [190, 200, 210, 220, 230, 240],\n",
        "    [250, 260, 270, 280, 290, 300]\n",
        "])\n",
        "```\n",
        "\n",
        "1️⃣ Ambil elemen yang berada pada baris `ke-4` dan kolom `ke-2` dari array `A` <br>\n",
        "2️⃣ Buat `array 2D` yang hanya berisi bilangan prima dari `A` <br>\n",
        "3️⃣ Ambil elemen-elemen yang berada di tepi luar dari array `A` dan gabungkan menjadi `Satu array 1D`. <br>\n",
        "4️⃣ Dapatkan subbarray berikut:\n",
        "```python\n",
        "[[20, 40, 60],\n",
        " [80, 100, 120],\n",
        " [140, 160, 180],\n",
        " [200, 220, 240],\n",
        " [260, 280, 300]]\n",
        "```\n",
        "5️⃣ Dapatkan subbarray berikut:\n",
        "```python\n",
        " [[30, 40],\n",
        " [90, 100],\n",
        " [150, 160],\n",
        " [210, 220]]\n",
        "```"
      ]
    },
    {
      "cell_type": "code",
      "execution_count": 25,
      "id": "4ef1d236-2f82-45f5-a50a-bd202aef8084",
      "metadata": {
        "colab": {
          "base_uri": "https://localhost:8080/"
        },
        "id": "4ef1d236-2f82-45f5-a50a-bd202aef8084",
        "outputId": "bedf48e5-dfe0-4743-bc02-525a35887b12"
      },
      "outputs": [
        {
          "output_type": "stream",
          "name": "stdout",
          "text": [
            "200\n"
          ]
        }
      ],
      "source": [
        "A = np.array([\n",
        "    [10, 20, 30, 40, 50, 60],\n",
        "    [70, 80, 90, 100, 110, 120],\n",
        "    [130, 140, 150, 160, 170, 180],\n",
        "    [190, 200, 210, 220, 230, 240],\n",
        "    [250, 260, 270, 280, 290, 300]\n",
        "])\n",
        "\n",
        "print(A[3,1])"
      ]
    },
    {
      "cell_type": "code",
      "execution_count": 34,
      "id": "e719e525-cf78-484e-9c40-a708a58b387e",
      "metadata": {
        "colab": {
          "base_uri": "https://localhost:8080/"
        },
        "id": "e719e525-cf78-484e-9c40-a708a58b387e",
        "outputId": "652bd0d3-01e1-462b-b9f3-d7837a2d72f2"
      },
      "outputs": [
        {
          "output_type": "stream",
          "name": "stdout",
          "text": [
            "[]\n"
          ]
        }
      ],
      "source": [
        "angka_prima = []\n",
        "for i in A:\n",
        "    for j in i:\n",
        "        cek_prima = True\n",
        "        if j <= 1:\n",
        "            cek_prima = False\n",
        "        else:\n",
        "            for k in range(2, int(num**0.5) + 1):\n",
        "                if num % k == 0:\n",
        "                    cek_prima = False\n",
        "                    break\n",
        "        if cek_prima:\n",
        "            angka_prima.append(j)\n",
        "\n",
        "prima_2d = np.array(angka_prima).reshape(-1, 1)\n",
        "print(prima_2d)"
      ]
    },
    {
      "cell_type": "code",
      "execution_count": 27,
      "id": "f9b0d1e6-c30b-4828-8ad3-0a71367905ba",
      "metadata": {
        "colab": {
          "base_uri": "https://localhost:8080/"
        },
        "id": "f9b0d1e6-c30b-4828-8ad3-0a71367905ba",
        "outputId": "cd4efb26-2985-42f0-ec06-5096c6b1a963"
      },
      "outputs": [
        {
          "output_type": "execute_result",
          "data": {
            "text/plain": [
              "array([ 10,  20,  30,  40,  50,  60, 250, 260, 270, 280, 290, 300,  70,\n",
              "       130, 190, 120, 180, 240])"
            ]
          },
          "metadata": {},
          "execution_count": 27
        }
      ],
      "source": [
        "tepi_luar = np.concatenate((A[0, :], A[-1, :], A[1:-1, 0], A[1:-1, -1]))\n",
        "tepi_luar"
      ]
    },
    {
      "cell_type": "code",
      "execution_count": 28,
      "id": "cc637fd0-78d7-45f8-b4e8-dbde6c3e6dfc",
      "metadata": {
        "colab": {
          "base_uri": "https://localhost:8080/"
        },
        "id": "cc637fd0-78d7-45f8-b4e8-dbde6c3e6dfc",
        "outputId": "4810e14d-0fcd-493e-af31-298811dd6a44"
      },
      "outputs": [
        {
          "output_type": "execute_result",
          "data": {
            "text/plain": [
              "array([[ 20,  40,  60],\n",
              "       [ 80, 100, 120],\n",
              "       [140, 160, 180],\n",
              "       [200, 220, 240],\n",
              "       [260, 280, 300]])"
            ]
          },
          "metadata": {},
          "execution_count": 28
        }
      ],
      "source": [
        "A[::1, 1::2]"
      ]
    },
    {
      "cell_type": "code",
      "execution_count": 29,
      "id": "f52e24b4-98f6-41fe-9aab-8d9d243c16e1",
      "metadata": {
        "colab": {
          "base_uri": "https://localhost:8080/"
        },
        "id": "f52e24b4-98f6-41fe-9aab-8d9d243c16e1",
        "outputId": "8a4ea23b-880e-4514-8785-f412ab7f00c7"
      },
      "outputs": [
        {
          "output_type": "execute_result",
          "data": {
            "text/plain": [
              "array([[ 30,  40],\n",
              "       [ 90, 100],\n",
              "       [150, 160],\n",
              "       [210, 220]])"
            ]
          },
          "metadata": {},
          "execution_count": 29
        }
      ],
      "source": [
        "A[:4:1, 2:4:1]"
      ]
    },
    {
      "cell_type": "markdown",
      "id": "c69b198a-5558-4ca3-8dea-c5a8d1ca81e9",
      "metadata": {
        "id": "c69b198a-5558-4ca3-8dea-c5a8d1ca81e9"
      },
      "source": [
        "## **📌 Soal 7: Ekspansi Array** 📝\n",
        "\n",
        "Jika kamu memiliki array ***Z = [1,2,3,4,5,6,7,8,9,10,11,12,13,14]***, buatlah kode untuk membuat array R berupa: <br>\n",
        "***R = [[1,2,3,4], [2,3,4,5], [3,4,5,6], ..., [11,12,13,14]]***?"
      ]
    },
    {
      "cell_type": "code",
      "execution_count": 30,
      "id": "6f77ba10-4474-44cd-aa7c-5a6c3940e22a",
      "metadata": {
        "colab": {
          "base_uri": "https://localhost:8080/"
        },
        "id": "6f77ba10-4474-44cd-aa7c-5a6c3940e22a",
        "outputId": "72e847b6-d601-464c-f191-607cee5797e2"
      },
      "outputs": [
        {
          "output_type": "stream",
          "name": "stdout",
          "text": [
            "R= [[ 1  2  3  4]\n",
            " [ 2  3  4  5]\n",
            " [ 3  4  5  6]\n",
            " [ 4  5  6  7]\n",
            " [ 5  6  7  8]\n",
            " [ 6  7  8  9]\n",
            " [ 7  8  9 10]\n",
            " [ 8  9 10 11]\n",
            " [ 9 10 11 12]\n",
            " [10 11 12 13]\n",
            " [11 12 13 14]]\n"
          ]
        }
      ],
      "source": [
        "Z = np.array([1, 2, 3, 4, 5, 6, 7, 8, 9, 10, 11, 12, 13, 14])\n",
        "R = np.array([Z[i:i+4] for i in range(len(Z) - 3)])\n",
        "print(\"R=\", R)"
      ]
    }
  ],
  "metadata": {
    "kernelspec": {
      "display_name": "dac",
      "language": "python",
      "name": "dac"
    },
    "language_info": {
      "codemirror_mode": {
        "name": "ipython",
        "version": 3
      },
      "file_extension": ".py",
      "mimetype": "text/x-python",
      "name": "python",
      "nbconvert_exporter": "python",
      "pygments_lexer": "ipython3",
      "version": "3.12.5"
    },
    "colab": {
      "provenance": []
    }
  },
  "nbformat": 4,
  "nbformat_minor": 5
}
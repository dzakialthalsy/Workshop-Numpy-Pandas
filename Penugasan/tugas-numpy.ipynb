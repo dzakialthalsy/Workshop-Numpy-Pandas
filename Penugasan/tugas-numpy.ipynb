{
  "cells": [
    {
      "cell_type": "markdown",
      "id": "d947b9cf-215c-4b18-a0b8-963556c547c7",
      "metadata": {
        "id": "d947b9cf-215c-4b18-a0b8-963556c547c7"
      },
      "source": [
        "# **TUGAS NUMPY**\n",
        "\n",
        "---\n",
        "\n",
        "Nama: Dzaki Althalsyah\n",
        "\n",
        "NIM: 245150407111071"
      ]
    },
    {
      "cell_type": "markdown",
      "id": "392630c3-e396-4dde-8258-cfd1085fd39d",
      "metadata": {
        "id": "392630c3-e396-4dde-8258-cfd1085fd39d"
      },
      "source": [
        "Setelah mengikuti workshop Numpy dan Pandas, tentunya kalian sudah mulai memahami hal-hal apa saja yang akan dilakukan oleh Data Scientist dengan Numpy. Sekarang, saatnya mengukur kemampuan kalian dari apa yang telah kalian dapatkan pada workshop sebelumnya.\n",
        "\n",
        "**Deadline: Jumat, 21 Februari 2025**\n"
      ]
    },
    {
      "cell_type": "markdown",
      "id": "eca339fb-851e-47d9-92a3-8811c04207ed",
      "metadata": {
        "id": "eca339fb-851e-47d9-92a3-8811c04207ed"
      },
      "source": [
        "# **📊 Numpy Exercise 📊**\n",
        "\n",
        "Selamat datang di latihan eksplorasi data menggunakan **Numpy**!  \n",
        "\n",
        "---"
      ]
    },
    {
      "cell_type": "markdown",
      "id": "ee73dcd6-dd10-4c9c-88ca-0eab4af9f337",
      "metadata": {
        "id": "ee73dcd6-dd10-4c9c-88ca-0eab4af9f337"
      },
      "source": [
        "## **📌 Soal 1: Regresi Linear** 📝\n",
        "\n",
        "Saat offline/online assessment kemarin ada persoalaan **Regresi Linear**, nah coba kamu buat menggunakan python dan numpy termasuk poin-poin berikut: <br>\n",
        "✅ Fungsi regresi mampu menerima array A dan array B dan memprediksi slope dan intercept<br>\n",
        "✅ Fungsi regresi mampu memprediksi nilai baru jika diberikan nilai X <br>"
      ]
    },
    {
      "cell_type": "code",
      "source": [
        "import numpy as np"
      ],
      "metadata": {
        "id": "Lc0SCJffYekE"
      },
      "id": "Lc0SCJffYekE",
      "execution_count": 2,
      "outputs": []
    },
    {
      "cell_type": "code",
      "execution_count": 3,
      "id": "cbc3cb08-4559-41f8-ad23-1889bd6b5e7d",
      "metadata": {
        "colab": {
          "base_uri": "https://localhost:8080/"
        },
        "id": "cbc3cb08-4559-41f8-ad23-1889bd6b5e7d",
        "outputId": "31310d3d-1e1e-417e-f8e1-2c99512215f0"
      },
      "outputs": [
        {
          "output_type": "stream",
          "name": "stdout",
          "text": [
            "Masukkan nilai X: 6\n",
            "Slope: -0.19425511197663092\n",
            "Intercept: 19.946932814021423\n",
            "Prediksi untuk X = 6 : 18.78140214216164\n"
          ]
        }
      ],
      "source": [
        "A = np.array([10, 21, 31, 14, 5])\n",
        "B = np.array([2, 27, 13, 9, 33])\n",
        "\n",
        "mean_x = np.mean(A)\n",
        "mean_y = np.mean(B)\n",
        "\n",
        "numerator = np.sum((A - mean_x) * (B - mean_y))\n",
        "denominator = np.sum((A - mean_x) ** 2)\n",
        "\n",
        "slope = numerator / denominator\n",
        "intercept = mean_y - (slope * mean_x)\n",
        "\n",
        "nilai_baru = int(input(\"Masukkan nilai X: \"))\n",
        "nilai_prediksi = (slope * nilai_baru) + intercept\n",
        "\n",
        "print(\"Slope:\", slope)\n",
        "print(\"Intercept:\", intercept)\n",
        "print(\"Prediksi untuk X =\", nilai_baru ,\":\", nilai_prediksi)"
      ]
    },
    {
      "cell_type": "markdown",
      "id": "a01ab4fc-cd05-4c79-bc0e-35f2412477d2",
      "metadata": {
        "id": "a01ab4fc-cd05-4c79-bc0e-35f2412477d2"
      },
      "source": [
        "## **📌 Soal 2: Regresi Polinomial** 📝\n",
        "\n",
        "Saat offline/online assessment kemarin ada persoalan **Regresi Linear**, nah sekarang coba kamu buat **Regresi Polinomial** menggunakan Python dan NumPy, termasuk poin-poin berikut:<br>\n",
        "✅ Fungsi regresi mampu menerima array A dan array B serta menyesuaikan data dengan polinomial derajat tertentu.<br>\n",
        "✅ Fungsi regresi mampu memprediksi nilai baru jika diberikan nilai X.<br>\n",
        "✅ Hasil regresi mencetak koefisien polinomial yang dihasilkan.<br>"
      ]
    },
    {
      "cell_type": "code",
      "execution_count": 4,
      "id": "efaa13de-f42c-43e8-b726-3d4d849807ad",
      "metadata": {
        "colab": {
          "base_uri": "https://localhost:8080/"
        },
        "id": "efaa13de-f42c-43e8-b726-3d4d849807ad",
        "outputId": "18532547-5e6a-4144-f55c-4ba26c2d9b40"
      },
      "outputs": [
        {
          "output_type": "stream",
          "name": "stdout",
          "text": [
            "x^0: 31.413523050412863\n",
            "x^1: -1.888532143431988\n",
            "x^2: 0.04637463050837276\n",
            "Prediksi untuk X = 6 : 21.751816888122356\n"
          ]
        }
      ],
      "source": [
        "A = np.array([10, 21, 31, 14, 5])\n",
        "B = np.array([2, 27, 13, 9, 33])\n",
        "\n",
        "derajat = 2\n",
        "\n",
        "X = np.array([A**i for i in range(derajat + 1)]).T\n",
        "\n",
        "koefisien = np.linalg.lstsq(X, B, rcond=None)[0]\n",
        "\n",
        "for i, coef in enumerate(koefisien):\n",
        "    print(f\"x^{i}: {coef}\")\n",
        "\n",
        "nilai_baru = 6\n",
        "nilai_prediksi = sum(coef * (nilai_baru**i) for i, coef in enumerate(koefisien))\n",
        "\n",
        "print(\"Prediksi untuk X =\", nilai_baru, \":\", nilai_prediksi)\n"
      ]
    },
    {
      "cell_type": "markdown",
      "id": "e187c964-3ab2-4ae3-a52c-4e6052c30911",
      "metadata": {
        "id": "e187c964-3ab2-4ae3-a52c-4e6052c30911"
      },
      "source": [
        "## **📌 Soal 3: Random Values Array** 📝\n",
        "\n",
        "Pertama-tama, buatlah **Array Integer 10x10x10** dengan elemen **random** dan carikan:<br>\n",
        "1️⃣ Cari elemen minimum dan maksimum dalam array tersebut?<br>\n",
        "2️⃣ Carilah rata-rata dan median seluruh elemen dalam array tersebut?<br>"
      ]
    },
    {
      "cell_type": "code",
      "execution_count": 5,
      "id": "ba1aa95d-56ce-4834-8d73-7e27e4cc1901",
      "metadata": {
        "collapsed": true,
        "colab": {
          "base_uri": "https://localhost:8080/"
        },
        "id": "ba1aa95d-56ce-4834-8d73-7e27e4cc1901",
        "outputId": "03bda817-c07a-4159-b919-28f74db57f10"
      },
      "outputs": [
        {
          "output_type": "execute_result",
          "data": {
            "text/plain": [
              "array([[[8271146, 6489788, 2923564, 4492353, 9853728, 8221032, 6990169,\n",
              "          270757, 4967906,  784809],\n",
              "        [3835314, 2724904, 9302020, 4729971, 2608632,  119175, 8353833,\n",
              "         4021163, 7982907, 7538025],\n",
              "        [7322662, 1079341, 9038492, 9996796, 6508857, 2815992, 4159645,\n",
              "         9915266, 6591921, 6894165],\n",
              "        [3426051, 7450621, 2747329, 8121594, 7503761, 4618932,  827018,\n",
              "         2830933, 4122859,  234222],\n",
              "        [9234948, 7884865, 6876889, 4067330, 7438991, 8050490, 8915386,\n",
              "         1925125, 3305941,  824628],\n",
              "        [ 906995, 2844904, 7828694, 8127749,  456527, 2573750, 7658060,\n",
              "         3130893, 8087415, 9253327],\n",
              "        [ 190252,  772479, 9216415, 2512848,  318879, 3987703, 5031101,\n",
              "          995620,  161527, 5553186],\n",
              "        [8190712, 5279422,  277217, 6623806, 9964387, 9284874, 2275099,\n",
              "          102182, 7570384, 1163314],\n",
              "        [8681734, 6100816, 5845954, 3633023, 6779981, 2936201, 1282698,\n",
              "         1459264, 8873904, 4875425],\n",
              "        [8788428, 7106760, 3523685, 1843156, 3022869, 6651466, 5456157,\n",
              "         3038581, 5766585, 2336775]],\n",
              "\n",
              "       [[7286279, 2396969,  619194, 4539297, 9130259, 2100067, 6244780,\n",
              "         3384451, 3688603, 5248257],\n",
              "        [2921841, 2982861, 1454099, 7059784, 3349178, 2983001, 6252348,\n",
              "         5382576, 4959550, 7959728],\n",
              "        [6083536, 6286857, 8447707, 8021441, 9982019, 5407576, 5286532,\n",
              "         4167187, 9569789, 2601755],\n",
              "        [7634153, 2848843, 1089556, 9949545, 7250942, 7680611,  612060,\n",
              "         8434283, 5240945,  896176],\n",
              "        [9714708, 2547250, 8619213, 9301420, 3036734, 1413759,  559313,\n",
              "         6499835, 7082647, 2704794],\n",
              "        [9560867, 2494236, 4612916, 2902839, 4007498, 2740162, 1817994,\n",
              "         6750565, 5790209, 1526701],\n",
              "        [2983646, 2629336, 6181328, 3522283, 9222811, 4390004, 7741794,\n",
              "         5154438, 7122712, 4703797],\n",
              "        [3486313, 1117824, 3515362, 5928082, 3417340, 2509301, 8653473,\n",
              "         6539421, 7449592, 2293320],\n",
              "        [3514721,  853724, 1294951, 5703544, 7194064, 7659725, 7679806,\n",
              "         3702498, 8616593, 5479445],\n",
              "        [4897924, 7175218, 4429784, 9934026, 1386634, 2464722, 9857795,\n",
              "         9812354, 7343081, 1876123]],\n",
              "\n",
              "       [[6424851, 3104059, 4044382, 2671791, 4981583,  616567, 5718159,\n",
              "         9623444, 3545817, 4104648],\n",
              "        [3938284, 1141812, 3054278, 8828478, 1490817, 6655847, 1643258,\n",
              "         6673074, 7088570, 1027589],\n",
              "        [5304666, 2467691, 2735661, 6357332, 3747683,  601324, 5023787,\n",
              "         2302499, 6319082, 6164828],\n",
              "        [8252749, 2087951, 3248216, 1578510, 2425790, 1288836, 6744583,\n",
              "         2305035, 4271313, 4489007],\n",
              "        [5729783, 7925577, 5762065, 6775124, 6627616, 4975884, 4735415,\n",
              "         4189392, 9235249, 7976003],\n",
              "        [9996819, 3341470, 3092663, 9323076,   21725, 7981701, 7109690,\n",
              "         9988612, 3234303,  634993],\n",
              "        [4070745, 7674845, 3621118, 3973514, 6081923, 7692522, 9206604,\n",
              "         3797285, 5372954, 7324784],\n",
              "        [ 705868, 1149857, 7110686, 7122619, 7287324, 7268448, 3503646,\n",
              "         5072808, 1737576, 1879934],\n",
              "        [1679894, 6035093, 7646771, 2684343, 8662256, 6330597, 6140533,\n",
              "         8916869, 6353703, 3854235],\n",
              "        [ 243050,   69678,   72766, 5270532, 2554954,  910472, 5876827,\n",
              "          987410, 1885637, 9727327]],\n",
              "\n",
              "       [[7338680, 3055142, 4614944, 9811380, 1113337, 7157926, 3497026,\n",
              "         3925509, 9268064,  629732],\n",
              "        [4810419, 5604740, 1449254, 9020416, 7768103, 7905731,  477489,\n",
              "         7903812, 9510624, 6242497],\n",
              "        [8643554,  105542, 7891760, 6940511, 4070552, 1377882, 6432281,\n",
              "         8101720, 1428240, 7051893],\n",
              "        [1746924, 2926125, 8745935,  181154, 4752530,  240478, 4089208,\n",
              "         8866665, 1591623, 7949850],\n",
              "        [4367933, 8349566, 8388376,  992443, 6580374, 3736135, 9822255,\n",
              "         7998489, 6266022, 6260882],\n",
              "        [2148051, 9006191, 1958945, 2122994, 8638565, 6572223, 4734678,\n",
              "         7545250, 6182777, 3946194],\n",
              "        [4657973, 3774861, 7841519, 9740629, 2690562, 8118569, 6578983,\n",
              "         5490406, 4223783, 9165056],\n",
              "        [ 335495, 7203229,  956001,  740247, 8215685, 5089504,  184896,\n",
              "         6273755, 1116478,  890742],\n",
              "        [1715306, 6979794, 1605353, 2288645, 8821516, 1457773, 9248894,\n",
              "         2179150, 1968534, 3727521],\n",
              "        [6560490, 1151505, 8896004, 3810505, 8550585, 1635370, 1154752,\n",
              "         4944590, 7261168, 2995662]],\n",
              "\n",
              "       [[7222971, 8362169, 5884253, 7294465, 3124665, 1990405, 2097107,\n",
              "         7710357, 2595630, 5662320],\n",
              "        [7160662, 2675020, 9386643, 1024119, 5000325, 9213707, 2043754,\n",
              "         8982537, 3663738, 3324778],\n",
              "        [3897236, 5519042, 3556913, 7114361, 9202665,  330369, 8977405,\n",
              "         9915435, 7527089, 3157460],\n",
              "        [9551940, 4409270, 9985745, 4201452, 8267103, 9967336,  488471,\n",
              "         1867433, 7444964, 9870174],\n",
              "        [9533542, 9268396, 4357665, 6267198, 9179613, 1969227, 1332531,\n",
              "         2067120, 5569028, 9822500],\n",
              "        [3389111, 8637509, 3799915, 8027939, 3377017, 4530548, 7278809,\n",
              "         5762675, 7533035, 3345844],\n",
              "        [5409967, 2433870, 7281189, 7882739, 9407386, 9745763,  299239,\n",
              "         5242500, 2335876, 6124197],\n",
              "        [5450518, 7064306, 3165844, 7226325, 3788750, 7051767, 8811789,\n",
              "         1376409, 1230464, 2284191],\n",
              "        [5663117, 5301325, 4481706, 6094764, 5551348, 3277279, 8932443,\n",
              "         7770583, 3169248,  910230],\n",
              "        [9582045, 9197611, 4478253, 7885047, 7539713, 4725991,  567000,\n",
              "         1870171, 4009008, 2985268]],\n",
              "\n",
              "       [[2235974, 1849857, 9789454, 9387825,  243782, 5162254, 2791702,\n",
              "         9420419, 1644318, 1332724],\n",
              "        [6274688, 2391835, 4553310, 9392760, 3036378, 2170406,  225561,\n",
              "         1763301, 8870259, 6624040],\n",
              "        [ 762277, 3487918, 2552519, 9455950, 1110773, 7540420, 6711458,\n",
              "         7363366, 4478700, 9120175],\n",
              "        [6034186, 3927329, 7491698, 4296458, 3156350, 3346467, 5480152,\n",
              "         6864197, 6503976, 3538775],\n",
              "        [5629112, 2745908, 2655609, 6578029,  872437, 4124421, 6856139,\n",
              "         8808291, 3421560,  826541],\n",
              "        [2051100,  179126, 4126826, 9944856, 4894724, 2195300,   82825,\n",
              "         1758222, 8263235,  850073],\n",
              "        [8235240,  752849, 6799690, 3238813, 8061805, 8831854, 8650985,\n",
              "         2649926, 1651985, 3945717],\n",
              "        [7597685, 5026775, 9317854, 4738681, 5836265, 6908770, 1822620,\n",
              "         6577811, 7692275, 9328102],\n",
              "        [2428216, 3533229, 6444162, 3934799, 9857031, 2297924, 3797209,\n",
              "          835428, 7905675, 3361816],\n",
              "        [7584838,  842133, 8265855, 5279681, 3595037, 4892526,  544044,\n",
              "         2316098, 2958798,  334029]],\n",
              "\n",
              "       [[8976020, 9872322, 1007608, 6162812, 8389005,  468700, 2161915,\n",
              "         1876422, 3944875, 4960261],\n",
              "        [8248356, 6798433, 3350622, 9893467, 8932754, 8763871, 2510315,\n",
              "         3756138, 2976100, 7580346],\n",
              "        [4330006, 1047138, 8497519, 3897250, 8960085, 7687367,  126808,\n",
              "         1291379, 3330917, 3638580],\n",
              "        [8698632, 6699459, 8812634, 8361565, 8390513,  780524, 3047991,\n",
              "         8995164, 4554580, 2004429],\n",
              "        [1376760, 3374881, 5915081, 5671593, 2272232, 9206728, 8901793,\n",
              "         4541086,  807809, 4759882],\n",
              "        [2867510, 3545549, 9469487, 9707339, 5309681, 9242908, 9955364,\n",
              "         3953332,  230234, 6846862],\n",
              "        [ 136523, 3317077, 6027076, 6346485, 8950094, 2423135, 1118015,\n",
              "         7736566, 4251560, 1806005],\n",
              "        [4115222, 3758182,  930523, 3756821,  508380, 1775693, 2672118,\n",
              "         4602392, 9606152, 7280670],\n",
              "        [6436291, 8283376, 9307101, 5427673, 8111041, 3399357, 1570584,\n",
              "         6405798, 7137900, 7923175],\n",
              "        [1085073, 1294977, 1781415, 3304471, 7106783, 1939391, 4424786,\n",
              "         4254613, 5085334,  403530]],\n",
              "\n",
              "       [[4940320, 1122428, 7059015, 3590131, 8409060, 1591177, 5392148,\n",
              "         3490520, 6584381, 1807593],\n",
              "        [ 453100,  525329, 7526406, 3113076, 8845070, 8760874, 9228648,\n",
              "         5557345, 4647990, 6136991],\n",
              "        [1460940, 2969768, 5419901, 1400688, 1609411, 6979315,  622575,\n",
              "         5987917, 1960278, 9832042],\n",
              "        [9369461, 6624680, 8291305, 6836365, 1761643, 3162923, 5515087,\n",
              "          536676, 2487264, 1935118],\n",
              "        [4505016,  417654, 4666372, 5866091, 3533058, 5143511,  812411,\n",
              "         5649907, 4506304, 6169457],\n",
              "        [3187894, 6891123, 3357553, 2530201, 9057915, 2812889, 3351725,\n",
              "         6173829, 8947187,  350283],\n",
              "        [6740971, 2555288, 9954265, 8669913, 5019257, 5043665, 5542519,\n",
              "         3381271, 5827694, 3231585],\n",
              "        [8807279, 4088144, 2870067, 6886051, 8500061, 9525201, 3361544,\n",
              "         2640334, 8965177, 1854935],\n",
              "        [4822612, 2888900, 1863901, 2206023,  570803, 1391261,  560997,\n",
              "          190181,  800217, 6803816],\n",
              "        [9122770, 7360846, 9312529, 1682503, 8245629, 6748877, 5255091,\n",
              "         1474101,  943500, 9078557]],\n",
              "\n",
              "       [[6266263, 8692050, 5644844, 1705780, 9818084, 6610673, 2979487,\n",
              "         7100001, 4919433, 8932976],\n",
              "        [4007258, 1964643, 8080710, 1701164, 2396309, 3627627, 4771316,\n",
              "         2215237, 3220167, 8059345],\n",
              "        [9925584, 1241610, 2374096, 6333497, 1174357, 7079750, 3775914,\n",
              "         6389896, 8678121, 4374918],\n",
              "        [ 695559, 9301634, 5185398, 2018707, 9068985, 8081880, 5348707,\n",
              "         1741653, 8611520, 7543970],\n",
              "        [7223038, 5050428, 5708188, 8115998, 5867177, 6182692, 7718176,\n",
              "         6088781,  586560, 9652355],\n",
              "        [2537951, 9680716, 3223398,  370070, 5821525, 8540878, 4029241,\n",
              "         3907339, 8023248,  432474],\n",
              "        [9249712, 5234805, 7731399, 4600309,  373035, 5353144, 2485066,\n",
              "         7286198, 5326734, 8821941],\n",
              "        [3374044, 5169233, 3025231, 9254734, 7590105, 8815429, 5144921,\n",
              "         5350010, 7804714, 5833456],\n",
              "        [7285981, 3207562, 9756876, 7869784, 2228131, 8972612, 1333780,\n",
              "         1857921, 5549510, 7046116],\n",
              "        [  62158,  278308, 7570170, 2475143, 8449439, 8895752, 5149343,\n",
              "         6367382, 3361054, 2853805]],\n",
              "\n",
              "       [[2025623, 8483964, 5666432, 2628831, 6247970, 7299042, 5830747,\n",
              "         5357800, 5528350,   42901],\n",
              "        [8956835, 9596492, 4231624, 4206941,  675967, 3149210, 5426390,\n",
              "         7926582, 7381441, 3975121],\n",
              "        [ 257613, 7659349,  199962, 7237428, 9715204, 4441248, 1246320,\n",
              "         1429972, 6004019, 7903770],\n",
              "        [1766135, 8329615, 9857024, 8714659, 3515824, 3034446, 2979244,\n",
              "         5643673, 9324970, 6872326],\n",
              "        [4924003, 1205019, 8397170, 3629888, 2319051, 2012144, 1255992,\n",
              "         8422044, 9378412, 4045905],\n",
              "        [2067793, 1337632, 9518844, 1334657, 3236229, 9738456, 2380904,\n",
              "          635820, 7996612, 2826976],\n",
              "        [7654079, 4869217, 5200943, 7776314, 5397456, 3293733, 8449791,\n",
              "         3580211, 1874501, 9747602],\n",
              "        [5086726, 2105916, 4713392, 9745720, 5789281, 6431583, 6076360,\n",
              "         7534581, 3569459, 7724447],\n",
              "        [5717559, 1614617, 7376586, 3386985, 1809227, 6143604, 3824754,\n",
              "         1202287, 6400487, 4449422],\n",
              "        [5299060, 3321618, 4796739,  385705, 6123046, 3389210, 7274554,\n",
              "         1346876, 5526239, 9177249]]])"
            ]
          },
          "metadata": {},
          "execution_count": 5
        }
      ],
      "source": [
        "import numpy as np\n",
        "\n",
        "arr_rand = np.random.randint(0, 10000000, size=(10, 10, 10))\n",
        "arr_rand"
      ]
    },
    {
      "cell_type": "code",
      "execution_count": 6,
      "id": "c7cd0420-9393-449a-bcec-e5947b24b327",
      "metadata": {
        "collapsed": true,
        "colab": {
          "base_uri": "https://localhost:8080/"
        },
        "id": "c7cd0420-9393-449a-bcec-e5947b24b327",
        "outputId": "35c71c99-f1f6-445a-9fb9-6eafc6a8580e"
      },
      "outputs": [
        {
          "output_type": "stream",
          "name": "stdout",
          "text": [
            "Nilai minimum: 21725\n",
            "Nilai maksimum: 9996819\n",
            "Nilai rata-rata: 5004009.419\n",
            "Nilai median: 4964083.5\n"
          ]
        }
      ],
      "source": [
        "min = np.amin(arr_rand)\n",
        "max = np.amax(arr_rand)\n",
        "mean = np.mean(arr_rand)\n",
        "median = np.median(arr_rand)\n",
        "\n",
        "print(f\"Nilai minimum: {min}\")\n",
        "print(f\"Nilai maksimum: {max}\")\n",
        "print(f\"Nilai rata-rata: {mean}\")\n",
        "print(f\"Nilai median: {median}\")"
      ]
    },
    {
      "cell_type": "markdown",
      "id": "1f248c96-688d-462a-b41e-5a2275be5fde",
      "metadata": {
        "id": "1f248c96-688d-462a-b41e-5a2275be5fde"
      },
      "source": [
        "## **📌 Soal 4: 2D Array Shenanigans** 📝\n",
        "\n",
        "Tugas kamu disini adalah membuat **Array 2D** sesuai ketentuan masing-masing soal: <br>\n",
        "1️⃣ Buatlah **array 10x10** yang memiliki angka \"5\" sebagai bingkai di seluruh tepi luar dan bagian dalam (selain array) berisi \"8\"? <br>\n",
        "2️⃣ Buatlah **array 2d 8x8** dengan pola seperti **checkboard/catur** (1 untuk kotak hitam, 0 untuk kotak putih)?<br>\n",
        "3️⃣ Buatlah **array 2d 15x15** dengan aturan sebagai berikut:\n",
        "- Jika suatu angka dapat dibagi 2, isi dengan 2.\n",
        "- Jika suatu angka dapat dibagi 3, isi dengan 3.\n",
        "- Jika suatu angka dapat dibagi 5, isi dengan 5.\n",
        "- Jika suatu angka dapat dibagi oleh lebih dari satu kondisi (misal, 6 bisa dibagi 2 & 3), maka simpan gabungan angka tersebut (misal, 6 → \"23\", 15 → \"35\").\n",
        "- Jika tidak memenuhi kondisi apa pun, isi dengan 0."
      ]
    },
    {
      "cell_type": "code",
      "execution_count": 7,
      "id": "e4974640-df15-43f7-9ae5-fdc8ff8f47dd",
      "metadata": {
        "collapsed": true,
        "colab": {
          "base_uri": "https://localhost:8080/"
        },
        "id": "e4974640-df15-43f7-9ae5-fdc8ff8f47dd",
        "outputId": "ac7235e1-9c9f-4405-ade2-396d4d408d44"
      },
      "outputs": [
        {
          "output_type": "execute_result",
          "data": {
            "text/plain": [
              "array([[5, 5, 5, 5, 5, 5, 5, 5, 5, 5],\n",
              "       [5, 8, 8, 8, 8, 8, 8, 8, 8, 5],\n",
              "       [5, 8, 8, 8, 8, 8, 8, 8, 8, 5],\n",
              "       [5, 8, 8, 8, 8, 8, 8, 8, 8, 5],\n",
              "       [5, 8, 8, 8, 8, 8, 8, 8, 8, 5],\n",
              "       [5, 8, 8, 8, 8, 8, 8, 8, 8, 5],\n",
              "       [5, 8, 8, 8, 8, 8, 8, 8, 8, 5],\n",
              "       [5, 8, 8, 8, 8, 8, 8, 8, 8, 5],\n",
              "       [5, 8, 8, 8, 8, 8, 8, 8, 8, 5],\n",
              "       [5, 5, 5, 5, 5, 5, 5, 5, 5, 5]])"
            ]
          },
          "metadata": {},
          "execution_count": 7
        }
      ],
      "source": [
        "bingkai = np.full((10, 10), 8)\n",
        "\n",
        "bingkai[0, :] = 5\n",
        "bingkai[-1, :] = 5\n",
        "bingkai[:, 0] = 5\n",
        "bingkai[:, -1] = 5\n",
        "\n",
        "bingkai"
      ]
    },
    {
      "cell_type": "code",
      "execution_count": 8,
      "id": "0af5bcce-4fe7-489e-a23e-24e7ca11108f",
      "metadata": {
        "collapsed": true,
        "colab": {
          "base_uri": "https://localhost:8080/"
        },
        "id": "0af5bcce-4fe7-489e-a23e-24e7ca11108f",
        "outputId": "91576c55-a490-4214-bafb-54798eadd563"
      },
      "outputs": [
        {
          "output_type": "stream",
          "name": "stdout",
          "text": [
            "[[0 1 0 1 0 1 0 1]\n",
            " [1 0 1 0 1 0 1 0]\n",
            " [0 1 0 1 0 1 0 1]\n",
            " [1 0 1 0 1 0 1 0]\n",
            " [0 1 0 1 0 1 0 1]\n",
            " [1 0 1 0 1 0 1 0]\n",
            " [0 1 0 1 0 1 0 1]\n",
            " [1 0 1 0 1 0 1 0]]\n"
          ]
        }
      ],
      "source": [
        "catur = np.zeros((8, 8), dtype=int)\n",
        "catur[1::2, ::2] = 1\n",
        "catur[::2, 1::2] = 1\n",
        "print(catur)"
      ]
    },
    {
      "cell_type": "code",
      "execution_count": 9,
      "id": "5e591f0a-78d8-47e4-97d5-d56bff180984",
      "metadata": {
        "collapsed": true,
        "colab": {
          "base_uri": "https://localhost:8080/"
        },
        "id": "5e591f0a-78d8-47e4-97d5-d56bff180984",
        "outputId": "5266f316-ebdf-43b6-8436-9acaf705f999"
      },
      "outputs": [
        {
          "output_type": "stream",
          "name": "stdout",
          "text": [
            "[['0' '2' '3' '2' '5' '23' '0' '2' '3' '25' '0' '23' '0' '2' '35']\n",
            " ['2' '0' '23' '0' '25' '3' '2' '0' '23' '5' '2' '3' '2' '0' '235']\n",
            " ['0' '2' '3' '2' '5' '23' '0' '2' '3' '25' '0' '23' '0' '2' '35']\n",
            " ['2' '0' '23' '0' '25' '3' '2' '0' '23' '5' '2' '3' '2' '0' '235']\n",
            " ['0' '2' '3' '2' '5' '23' '0' '2' '3' '25' '0' '23' '0' '2' '35']\n",
            " ['2' '0' '23' '0' '25' '3' '2' '0' '23' '5' '2' '3' '2' '0' '235']\n",
            " ['0' '2' '3' '2' '5' '23' '0' '2' '3' '25' '0' '23' '0' '2' '35']\n",
            " ['2' '0' '23' '0' '25' '3' '2' '0' '23' '5' '2' '3' '2' '0' '235']\n",
            " ['0' '2' '3' '2' '5' '23' '0' '2' '3' '25' '0' '23' '0' '2' '35']\n",
            " ['2' '0' '23' '0' '25' '3' '2' '0' '23' '5' '2' '3' '2' '0' '235']\n",
            " ['0' '2' '3' '2' '5' '23' '0' '2' '3' '25' '0' '23' '0' '2' '35']\n",
            " ['2' '0' '23' '0' '25' '3' '2' '0' '23' '5' '2' '3' '2' '0' '235']\n",
            " ['0' '2' '3' '2' '5' '23' '0' '2' '3' '25' '0' '23' '0' '2' '35']\n",
            " ['2' '0' '23' '0' '25' '3' '2' '0' '23' '5' '2' '3' '2' '0' '235']\n",
            " ['0' '2' '3' '2' '5' '23' '0' '2' '3' '25' '0' '23' '0' '2' '35']]\n"
          ]
        }
      ],
      "source": [
        "arr_2d = np.zeros((15, 15), dtype=object)\n",
        "\n",
        "for i in range(15):\n",
        "    for j in range(15):\n",
        "        num = i * 15 + j + 1\n",
        "        hasil = \"\"\n",
        "        if num % 2 == 0:\n",
        "            hasil += \"2\"\n",
        "        if num % 3 == 0:\n",
        "            hasil += \"3\"\n",
        "        if num % 5 == 0:\n",
        "            hasil += \"5\"\n",
        "        if not hasil:\n",
        "            hasil = \"0\"\n",
        "        arr_2d[i, j] = hasil\n",
        "\n",
        "print(arr_2d)\n"
      ]
    },
    {
      "cell_type": "markdown",
      "id": "4b963ba6-4272-4773-ab58-33ade2e536bd",
      "metadata": {
        "id": "4b963ba6-4272-4773-ab58-33ade2e536bd"
      },
      "source": [
        "## **📌 Soal 5: Time & Date** 📝\n",
        "\n",
        "Kamu disini diminta untuk memanfaatkan fitur numpy untuk tanggal: <br>\n",
        "1️⃣ Bagaimana dengan numpy, kamu bisa mendapatkan tanggal hari ini, kemarin dan esok hari?<br>\n",
        "2️⃣ Tampilkan hari yang ada di bulan Mei tahun 2020?<br>"
      ]
    },
    {
      "cell_type": "code",
      "execution_count": 19,
      "id": "ac7ccf05-97da-484f-96c9-fc578e62bbbe",
      "metadata": {
        "colab": {
          "base_uri": "https://localhost:8080/"
        },
        "id": "ac7ccf05-97da-484f-96c9-fc578e62bbbe",
        "outputId": "3607701d-861e-4dec-cf49-4d53024da8a4"
      },
      "outputs": [
        {
          "output_type": "stream",
          "name": "stdout",
          "text": [
            "2025-02-21\n",
            "2025-02-20\n",
            "2025-02-22\n",
            "['2020-05-01' '2020-05-02' '2020-05-03' '2020-05-04' '2020-05-05'\n",
            " '2020-05-06' '2020-05-07' '2020-05-08' '2020-05-09' '2020-05-10'\n",
            " '2020-05-11' '2020-05-12' '2020-05-13' '2020-05-14' '2020-05-15'\n",
            " '2020-05-16' '2020-05-17' '2020-05-18' '2020-05-19' '2020-05-20'\n",
            " '2020-05-21' '2020-05-22' '2020-05-23' '2020-05-24' '2020-05-25'\n",
            " '2020-05-26' '2020-05-27' '2020-05-28' '2020-05-29' '2020-05-30'\n",
            " '2020-05-31']\n"
          ]
        }
      ],
      "source": [
        "now = np.datetime64('today')\n",
        "yesterday = np.datetime64('today') - np.timedelta64(1, 'D')\n",
        "tomorrow = np.datetime64('today') + np.timedelta64(1, 'D')\n",
        "\n",
        "print(now)\n",
        "print(yesterday)\n",
        "print(tomorrow)\n",
        "\n",
        "hari_mei = np.arange('2020-05-01', '2020-06-01', dtype='datetime64[D]')\n",
        "\n",
        "print(hari_mei)"
      ]
    },
    {
      "cell_type": "markdown",
      "id": "63d149d6-61a5-481c-bc7c-9e1e8b389c28",
      "metadata": {
        "id": "63d149d6-61a5-481c-bc7c-9e1e8b389c28"
      },
      "source": []
    },
    {
      "cell_type": "markdown",
      "id": "eccc9d2f-8a7a-424c-ab89-ad5e52ca20a4",
      "metadata": {
        "id": "eccc9d2f-8a7a-424c-ab89-ad5e52ca20a4"
      },
      "source": [
        "## **📌 Soal 6: Slicing** 📝\n",
        "\n",
        "Jika diketahui array `A`, maka buatlah program untuk mendapatkan elemen dibawah ini:\n",
        "```python\n",
        "A = np.array([\n",
        "    [10, 20, 30, 40, 50, 60],\n",
        "    [70, 80, 90, 100, 110, 120],\n",
        "    [130, 140, 150, 160, 170, 180],\n",
        "    [190, 200, 210, 220, 230, 240],\n",
        "    [250, 260, 270, 280, 290, 300]\n",
        "])\n",
        "```\n",
        "\n",
        "1️⃣ Ambil elemen yang berada pada baris `ke-4` dan kolom `ke-2` dari array `A` <br>\n",
        "2️⃣ Buat `array 2D` yang hanya berisi bilangan prima dari `A` <br>\n",
        "3️⃣ Ambil elemen-elemen yang berada di tepi luar dari array `A` dan gabungkan menjadi `Satu array 1D`. <br>\n",
        "4️⃣ Dapatkan subbarray berikut:\n",
        "```python\n",
        "[[20, 40, 60],\n",
        " [80, 100, 120],\n",
        " [140, 160, 180],\n",
        " [200, 220, 240],\n",
        " [260, 280, 300]]\n",
        "```\n",
        "5️⃣ Dapatkan subbarray berikut:\n",
        "```python\n",
        " [[30, 40],\n",
        " [90, 100],\n",
        " [150, 160],\n",
        " [210, 220]]\n",
        "```"
      ]
    },
    {
      "cell_type": "code",
      "execution_count": 11,
      "id": "4ef1d236-2f82-45f5-a50a-bd202aef8084",
      "metadata": {
        "colab": {
          "base_uri": "https://localhost:8080/"
        },
        "id": "4ef1d236-2f82-45f5-a50a-bd202aef8084",
        "outputId": "d3697176-70ba-4b1e-bb60-ddb3980fb760"
      },
      "outputs": [
        {
          "output_type": "stream",
          "name": "stdout",
          "text": [
            "200\n"
          ]
        }
      ],
      "source": [
        "A = np.array([\n",
        "    [10, 20, 30, 40, 50, 60],\n",
        "    [70, 80, 90, 100, 110, 120],\n",
        "    [130, 140, 150, 160, 170, 180],\n",
        "    [190, 200, 210, 220, 230, 240],\n",
        "    [250, 260, 270, 280, 290, 300]\n",
        "])\n",
        "\n",
        "print(A[3,1])"
      ]
    },
    {
      "cell_type": "code",
      "execution_count": 12,
      "id": "e719e525-cf78-484e-9c40-a708a58b387e",
      "metadata": {
        "colab": {
          "base_uri": "https://localhost:8080/"
        },
        "id": "e719e525-cf78-484e-9c40-a708a58b387e",
        "outputId": "f952ed19-57aa-4e9e-f96f-ada1694f8ec1"
      },
      "outputs": [
        {
          "output_type": "stream",
          "name": "stdout",
          "text": [
            "[]\n"
          ]
        }
      ],
      "source": [
        "angka_prima = []\n",
        "for i in A:\n",
        "    for j in i:\n",
        "        cek_prima = True\n",
        "        if j <= 1:\n",
        "            cek_prima = False\n",
        "        else:\n",
        "            for k in range(2, int(num**0.5) + 1):\n",
        "                if num % k == 0:\n",
        "                    cek_prima = False\n",
        "                    break\n",
        "        if cek_prima:\n",
        "            angka_prima.append(j)\n",
        "\n",
        "prima_2d = np.array(angka_prima).reshape(-1, 1)\n",
        "print(prima_2d)"
      ]
    },
    {
      "cell_type": "code",
      "execution_count": 13,
      "id": "f9b0d1e6-c30b-4828-8ad3-0a71367905ba",
      "metadata": {
        "colab": {
          "base_uri": "https://localhost:8080/"
        },
        "id": "f9b0d1e6-c30b-4828-8ad3-0a71367905ba",
        "outputId": "3cca36b7-f80a-428a-e62c-b390c03f81ad"
      },
      "outputs": [
        {
          "output_type": "execute_result",
          "data": {
            "text/plain": [
              "array([ 10,  20,  30,  40,  50,  60, 250, 260, 270, 280, 290, 300,  70,\n",
              "       130, 190, 120, 180, 240])"
            ]
          },
          "metadata": {},
          "execution_count": 13
        }
      ],
      "source": [
        "tepi_luar = np.concatenate((A[0, :], A[-1, :], A[1:-1, 0], A[1:-1, -1]))\n",
        "tepi_luar"
      ]
    },
    {
      "cell_type": "code",
      "execution_count": 14,
      "id": "cc637fd0-78d7-45f8-b4e8-dbde6c3e6dfc",
      "metadata": {
        "colab": {
          "base_uri": "https://localhost:8080/"
        },
        "id": "cc637fd0-78d7-45f8-b4e8-dbde6c3e6dfc",
        "outputId": "4f123649-e332-46d5-86be-3b05ba84bd7f"
      },
      "outputs": [
        {
          "output_type": "execute_result",
          "data": {
            "text/plain": [
              "array([[ 20,  40,  60],\n",
              "       [ 80, 100, 120],\n",
              "       [140, 160, 180],\n",
              "       [200, 220, 240],\n",
              "       [260, 280, 300]])"
            ]
          },
          "metadata": {},
          "execution_count": 14
        }
      ],
      "source": [
        "A[::1, 1::2]"
      ]
    },
    {
      "cell_type": "code",
      "execution_count": 15,
      "id": "f52e24b4-98f6-41fe-9aab-8d9d243c16e1",
      "metadata": {
        "colab": {
          "base_uri": "https://localhost:8080/"
        },
        "id": "f52e24b4-98f6-41fe-9aab-8d9d243c16e1",
        "outputId": "66ea086e-47bc-409d-bef1-1446832fc910"
      },
      "outputs": [
        {
          "output_type": "execute_result",
          "data": {
            "text/plain": [
              "array([[ 30,  40],\n",
              "       [ 90, 100],\n",
              "       [150, 160],\n",
              "       [210, 220]])"
            ]
          },
          "metadata": {},
          "execution_count": 15
        }
      ],
      "source": [
        "A[:4:1, 2:4:1]"
      ]
    },
    {
      "cell_type": "markdown",
      "id": "c69b198a-5558-4ca3-8dea-c5a8d1ca81e9",
      "metadata": {
        "id": "c69b198a-5558-4ca3-8dea-c5a8d1ca81e9"
      },
      "source": [
        "## **📌 Soal 7: Ekspansi Array** 📝\n",
        "\n",
        "Jika kamu memiliki array ***Z = [1,2,3,4,5,6,7,8,9,10,11,12,13,14]***, buatlah kode untuk membuat array R berupa: <br>\n",
        "***R = [[1,2,3,4], [2,3,4,5], [3,4,5,6], ..., [11,12,13,14]]***?"
      ]
    },
    {
      "cell_type": "code",
      "execution_count": 16,
      "id": "6f77ba10-4474-44cd-aa7c-5a6c3940e22a",
      "metadata": {
        "colab": {
          "base_uri": "https://localhost:8080/"
        },
        "id": "6f77ba10-4474-44cd-aa7c-5a6c3940e22a",
        "outputId": "b11d5d1b-d89b-44cd-82c4-063488ab0f9f"
      },
      "outputs": [
        {
          "output_type": "stream",
          "name": "stdout",
          "text": [
            "R= [[ 1  2  3  4]\n",
            " [ 2  3  4  5]\n",
            " [ 3  4  5  6]\n",
            " [ 4  5  6  7]\n",
            " [ 5  6  7  8]\n",
            " [ 6  7  8  9]\n",
            " [ 7  8  9 10]\n",
            " [ 8  9 10 11]\n",
            " [ 9 10 11 12]\n",
            " [10 11 12 13]\n",
            " [11 12 13 14]]\n"
          ]
        }
      ],
      "source": [
        "Z = np.array([1, 2, 3, 4, 5, 6, 7, 8, 9, 10, 11, 12, 13, 14])\n",
        "R = np.array([Z[i:i+4] for i in range(len(Z) - 3)])\n",
        "print(\"R=\", R)"
      ]
    }
  ],
  "metadata": {
    "kernelspec": {
      "display_name": "dac",
      "language": "python",
      "name": "dac"
    },
    "language_info": {
      "codemirror_mode": {
        "name": "ipython",
        "version": 3
      },
      "file_extension": ".py",
      "mimetype": "text/x-python",
      "name": "python",
      "nbconvert_exporter": "python",
      "pygments_lexer": "ipython3",
      "version": "3.12.5"
    },
    "colab": {
      "provenance": []
    }
  },
  "nbformat": 4,
  "nbformat_minor": 5
}